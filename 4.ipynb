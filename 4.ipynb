{
 "cells": [
  {
   "cell_type": "code",
   "execution_count": 14,
   "metadata": {},
   "outputs": [],
   "source": [
    "import mysql.connector\n",
    "from pymongo import MongoClient\n"
   ]
  },
  {
   "cell_type": "code",
   "execution_count": 15,
   "metadata": {},
   "outputs": [],
   "source": [
    "client     = MongoClient('mongodb://localhost:27017')\n",
    "db         = client.Examen\n",
    "collection = db.Examen\n",
    "\n",
    "cnx        = mysql.connector.connect( \n",
    "                                     user     ='root', \n",
    "                                     password ='', \n",
    "                                     database ='prueba')\n",
    "cursor     = cnx.cursor()"
   ]
  },
  {
   "cell_type": "code",
   "execution_count": 16,
   "metadata": {},
   "outputs": [],
   "source": [
    "row_titles = ('name','lastname')"
   ]
  },
  {
   "cell_type": "code",
   "execution_count": 17,
   "metadata": {},
   "outputs": [],
   "source": [
    "query = ( \"SELECT name, lastname FROM users\" )\n",
    "\n",
    "cursor.execute( query )"
   ]
  },
  {
   "cell_type": "code",
   "execution_count": 18,
   "metadata": {},
   "outputs": [
    {
     "name": "stdout",
     "output_type": "stream",
     "text": [
      "1\n",
      "2\n",
      "3\n",
      "4\n",
      "5\n",
      "6\n",
      "7\n",
      "8\n",
      "9\n",
      "10\n"
     ]
    }
   ],
   "source": [
    "#mongo client specifically requires python dict\n",
    "cus = dict()\n",
    "\n",
    "#custom record id rather than mongodb default hash id                                          \n",
    "cid = 0                                                 \n",
    "\n",
    "#cycle through each mySQL row\n",
    "for ( row ) in cursor:\n",
    "    cid        += 1   #increment id\n",
    "    cus['_id'] = cid                                    \n",
    "    \n",
    "    #check if current row is null\n",
    "    for i in range( 0, len( row ) ):\n",
    "        if row[i] == None:\n",
    "            #if the record is null, skip it                  \n",
    "            continue\n",
    "        else:\n",
    "            #conversion to string\n",
    "            row_title      = \"\".join( row_titles[i] )  \n",
    "            #conversion to string \n",
    "            field          = str( row[i] ) \n",
    "            \n",
    "            #add current record's field's title and value             \n",
    "            cus[row_title] = field\n",
    "          \n",
    "   #we've completed processing this row, insert it into mongoldb      \n",
    "    id = collection.insert_one( cus ).inserted_id\n",
    "\n",
    "    #just for debug purposes, show me running row count\n",
    "    print (id) \n",
    "\n",
    "#shut down the mysql connection\n",
    "cursor.close()\n",
    "cnx.close()"
   ]
  },
  {
   "cell_type": "code",
   "execution_count": null,
   "metadata": {},
   "outputs": [],
   "source": []
  }
 ],
 "metadata": {
  "kernelspec": {
   "display_name": "Python 3",
   "language": "python",
   "name": "python3"
  },
  "language_info": {
   "codemirror_mode": {
    "name": "ipython",
    "version": 3
   },
   "file_extension": ".py",
   "mimetype": "text/x-python",
   "name": "python",
   "nbconvert_exporter": "python",
   "pygments_lexer": "ipython3",
   "version": "3.9.0"
  }
 },
 "nbformat": 4,
 "nbformat_minor": 4
}
