{
 "cells": [
  {
   "cell_type": "code",
   "execution_count": 1,
   "metadata": {},
   "outputs": [],
   "source": [
    "import pandas as pd\n",
    "from bs4 import BeautifulSoup\n",
    "import requests\n",
    "import pymongo"
   ]
  },
  {
   "cell_type": "code",
   "execution_count": 11,
   "metadata": {},
   "outputs": [
    {
     "name": "stdout",
     "output_type": "stream",
     "text": [
      "['WhatsApp, Telegram o Signal, ¿cuál prefieres?', '¿Cómo aprender lo que sea en 8 pasos?', 'Programa de becas', 'Introducción a los Directorios.', 'DAO es un patron de diseño', 'Muy interesante', 'Confusión', '¡Nuevo Curso!', 'Ejecución de los Guest Additions', '¿ Que tramites legales hay que sacar en Colombia para vender paginas web o Servicios digitales ?', 'Recuerda practicar después de ver todo', 'Recuerda que en Postgres', 'Que buen contenido del curso', 'problemas con la imagen', 'SUGERENCIA', '¿A los 36 ya soy muy viejo para buscar trabajo en TI?', '¿Cuál es un buen salario para un desarrollador Sr. con 9+ años de experiencia?', 'Especialidad JavaScript (Backend)', 'Aprende JavaScript', 'Puntero mediante interfaces vacías', 'puedo tener redux dev tools en producción?', 'Desarrollador Full-Stack para Inkaru', '¿Cuál otra preguntas agregarías? 🤔']\n"
     ]
    }
   ],
   "source": [
    "def find_2nd(string,substring):\n",
    "    return string.find(substring, string.find(substring) + 1)\n",
    "def find_1st(string, substring):\n",
    "    return string.find(substring, string.find(substring))\n",
    "\n",
    "response = requests.get(\"https://ed.team/\")\n",
    "soup = BeautifulSoup(response.content, \"lxml\")\n",
    "\n",
    "Publications = []\n",
    "post_publications = soup.find_all(\"h2\", class_=\"publication__title t3\")\n",
    "for element in post_publications:\n",
    "    element = str(element)\n",
    "    limpio = str(element[find_1st(element, '>')+1:find_2nd(element, '<')])\n",
    "    Publications.append(limpio.strip())\n",
    "print(Publications)\n",
    "\n",
    "myclient = pymongo.MongoClient(\"mongodb://localhost\")\n",
    "mydb = myclient[\"edteam\"]\n",
    "mycol = mydb[\"edteam\"]\n",
    "num = 0\n",
    "for publication in Publications:\n",
    "    num = num +1\n",
    "    mycol.insert_one(\n",
    "    {\n",
    "    'id':num,\n",
    "    'publication':publication\n",
    "    }) \n",
    "    \n"
   ]
  },
  {
   "cell_type": "code",
   "execution_count": null,
   "metadata": {},
   "outputs": [],
   "source": []
  }
 ],
 "metadata": {
  "kernelspec": {
   "display_name": "Python 3",
   "language": "python",
   "name": "python3"
  },
  "language_info": {
   "codemirror_mode": {
    "name": "ipython",
    "version": 3
   },
   "file_extension": ".py",
   "mimetype": "text/x-python",
   "name": "python",
   "nbconvert_exporter": "python",
   "pygments_lexer": "ipython3",
   "version": "3.9.0"
  }
 },
 "nbformat": 4,
 "nbformat_minor": 4
}
