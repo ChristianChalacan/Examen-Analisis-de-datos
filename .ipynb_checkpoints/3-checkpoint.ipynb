{
 "cells": [
  {
   "cell_type": "code",
   "execution_count": 2,
   "metadata": {},
   "outputs": [
    {
     "name": "stdout",
     "output_type": "stream",
     "text": [
      "{'post_id': '10158256219566997', 'text': 'Watch Epic Records recording artist Madison Beer as she travels to a “multidimensional world” for a one-of-a-kind immersive reality concert experience: https://go.sony.com/33jtrws', 'post_text': 'Watch Epic Records recording artist Madison Beer as she travels to a “multidimensional world” for a one-of-a-kind immersive reality concert experience: https://go.sony.com/33jtrws', 'shared_text': '', 'time': datetime.datetime(2021, 1, 18, 10, 5, 2), 'image': None, 'video': 'https://video.fuio1-1.fna.fbcdn.net/v/t42.1790-2/140326331_1022184418189403_4681059455220971928_n.mp4?_nc_cat=111&ccb=2&_nc_sid=985c63&efg=eyJ2ZW5jb2RlX3RhZyI6ImxlZ2FjeV9zZCJ9&_nc_ohc=MagWRw3JatkAX8xyqnG&_nc_ht=video.fuio1-1.fna&oh=65088ad746411fc2adf830fa34aae8ec&oe=600636AE', 'video_thumbnail': 'https://scontent.fuio1-1.fna.fbcdn.net/v/t15.5256-10/cp0/e15/q65/p320x320/129959497_1035577120260186_3683067724320635311_n.jpg?_nc_cat=100&ccb=2&_nc_sid=ccf8b3&_nc_ohc=j7-KJAr_Nr8AX9_JF6H&_nc_ht=scontent.fuio1-1.fna&oh=d6fafa9b0836de29bdc43308aab4419a&oe=602BBCC6', 'video_id': '1035575356927029', 'likes': 327, 'comments': 4, 'shares': 0, 'post_url': 'https://facebook.com/watch?v=1035575356927029', 'link': 'https://go.sony.com/33jtrws', 'user_id': '56232316996', 'images': []}\n",
      "Guardado exitosamente\n",
      "{'id': '10158256219566997', 'text': 'Watch Epic Records recording artist Madison Beer as she travels to a “multidimensional world” for a one-of-a-kind immersive reality concert experience: https://go.sony.com/33jtrws', 'date': 1610982302.0, 'likes': 327, 'comments': 4, 'shares': 0, 'reactions': {}, 'post_url': 'https://facebook.com/watch?v=1035575356927029', '_id': ObjectId('600616ba8a0c60c38966373a')}\n",
      "{'post_id': '10158252554506997', 'text': 'VISION-S has reached the next stage in the advancement of vehicle development. Public road testing began in Austria this past December. Learn more: https://go.sony.com/3nR6NuK #SonyCES', 'post_text': 'VISION-S has reached the next stage in the advancement of vehicle development. Public road testing began in Austria this past December. Learn more: https://go.sony.com/3nR6NuK #SonyCES', 'shared_text': '', 'time': datetime.datetime(2021, 1, 16, 10, 5), 'image': None, 'video': 'https://video.fuio1-1.fna.fbcdn.net/v/t42.1790-2/138396107_163050725269640_246883255155373892_n.mp4?_nc_cat=107&ccb=2&_nc_sid=985c63&efg=eyJ2ZW5jb2RlX3RhZyI6ImxlZ2FjeV9zZCJ9&_nc_ohc=9yeunNNPHMcAX8H4n0D&_nc_ht=video.fuio1-1.fna&oh=8e37d5a556a6f126f3672abb84376887&oe=60064024', 'video_thumbnail': 'https://scontent.fuio1-1.fna.fbcdn.net/v/t15.5256-10/cp0/e15/q65/s320x320/129905762_808957999655364_1427474867080532562_n.jpg?_nc_cat=106&ccb=2&_nc_sid=ccf8b3&_nc_ohc=SjEmB5G004wAX-jwKI7&_nc_ht=scontent.fuio1-1.fna&oh=a93931829027832a4680fb57cb530564&oe=602ACF93', 'video_id': '808957186322112', 'likes': 808, 'comments': 36, 'shares': 0, 'post_url': 'https://facebook.com/watch?v=808957186322112', 'link': 'https://go.sony.com/3nR6NuK', 'user_id': '56232316996', 'images': []}\n",
      "Guardado exitosamente\n",
      "{'id': '10158252554506997', 'text': 'VISION-S has reached the next stage in the advancement of vehicle development. Public road testing began in Austria this past December. Learn more: https://go.sony.com/3nR6NuK #SonyCES', 'date': 1610809500.0, 'likes': 808, 'comments': 36, 'shares': 0, 'reactions': {}, 'post_url': 'https://facebook.com/watch?v=808957186322112', '_id': ObjectId('600616bb8a0c60c38966373b')}\n",
      "Fin\n"
     ]
    }
   ],
   "source": [
    "from facebook_scraper import get_posts\n",
    "import json\n",
    "import time\n",
    "import pymongo\n",
    "\n",
    "#Mongodb\n",
    "myclient = pymongo.MongoClient(\"mongodb://localhost\")\n",
    "mydb = myclient[\"sony\"]\n",
    "mycol = mydb[\"sony\"]\n",
    "for post in get_posts('sony',pages=1,extra_info = True):\n",
    "    print(post)\n",
    "    id = post['post_id']\n",
    "    doc = {}\n",
    "    doc['id'] = id\n",
    "    time = post['time']\n",
    "    try:\n",
    "        doc['text'] = post['text']\n",
    "        doc['date'] = time.timestamp()\n",
    "        doc['likes'] = post['likes']\n",
    "        doc['comments'] = post['comments']\n",
    "        doc['shares'] = post['shares']\n",
    "        try:\n",
    "            doc['reactions'] = post['reactions']\n",
    "        except:\n",
    "            doc['reactions'] = {}\n",
    "            \n",
    "        doc['post_url'] = post['post_url']\n",
    "        mycol.insert_one(doc)    \n",
    "        print(\"Guardado exitosamente\")\n",
    "        print(doc)   \n",
    "    except Exception as e:\n",
    "        print(\"no se pudo grabar: \"+str(e))\n",
    "print(\"Fin\")"
   ]
  },
  {
   "cell_type": "code",
   "execution_count": null,
   "metadata": {},
   "outputs": [],
   "source": []
  }
 ],
 "metadata": {
  "kernelspec": {
   "display_name": "Python 3",
   "language": "python",
   "name": "python3"
  },
  "language_info": {
   "codemirror_mode": {
    "name": "ipython",
    "version": 3
   },
   "file_extension": ".py",
   "mimetype": "text/x-python",
   "name": "python",
   "nbconvert_exporter": "python",
   "pygments_lexer": "ipython3",
   "version": "3.9.0"
  }
 },
 "nbformat": 4,
 "nbformat_minor": 4
}
